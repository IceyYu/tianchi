{
 "cells": [
  {
   "cell_type": "code",
   "execution_count": 1,
   "metadata": {
    "collapsed": true
   },
   "outputs": [],
   "source": [
    "import pickle\n",
    "import numpy as np \n",
    "import pandas as pd \n",
    "from sklearn import cross_validation\n",
    "from sklearn.metrics import accuracy_score"
   ]
  },
  {
   "cell_type": "code",
   "execution_count": 3,
   "metadata": {
    "collapsed": false
   },
   "outputs": [
    {
     "name": "stdout",
     "output_type": "stream",
     "text": [
      "CPU times: user 2.13 s, sys: 758 ms, total: 2.88 s\n",
      "Wall time: 2.92 s\n"
     ]
    }
   ],
   "source": [
    "%time data = pickle.load(open('training_set_3', 'r+'))"
   ]
  },
  {
   "cell_type": "code",
   "execution_count": null,
   "metadata": {
    "collapsed": true
   },
   "outputs": [],
   "source": [
    "page_number, freq = 0, 200"
   ]
  },
  {
   "cell_type": "code",
   "execution_count": 4,
   "metadata": {
    "collapsed": true
   },
   "outputs": [],
   "source": [
    "from xgboost import XGBRegressor\n",
    "from sklearn.linear_model import Lasso, BayesianRidge\n",
    "from sklearn.svm import SVR\n",
    "from sklearn.neighbors import KNeighborsRegressor\n",
    "from sklearn.tree import DecisionTreeRegressor\n",
    "from sklearn.ensemble import RandomForestRegressor\n",
    "from sklearn.ensemble import AdaBoostRegressor\n",
    "from sklearn.ensemble import BaggingRegressor\n",
    "from sklearn.ensemble import GradientBoostingRegressor\n",
    "\n",
    "xgboost = XGBRegressor(max_depth=10, learning_rate=0.1, n_estimators=30, nthread=-1, gamma=0, min_child_weight=1)"
   ]
  },
  {
   "cell_type": "code",
   "execution_count": null,
   "metadata": {
    "collapsed": false
   },
   "outputs": [],
   "source": [
    "# ****************************************************************************#\n",
    "#    Exhaustive grid search\n",
    "#    10-fold cross validation, xgboost, training seperately\n",
    "# ****************************************************************************#\n",
    "from sklearn import svm\n",
    "from sklearn import grid_search\n",
    "from sklearn import grid_search as gs\n",
    "from sklearn import cross_validation \n",
    "from sklearn.metrics import make_scorer\n",
    "import datetime as dt \n",
    "@make_scorer\n",
    "def scorer(y, y_pred, **kwargs):\n",
    "    return sum(abs((y_pred - y)/(y_pred + y)))/len(y_pred)\n",
    "\n",
    "model = XGBRegressor()\n",
    "param_grid = [\n",
    "    {'max_depth': range(6,20,3), 'n_estimators': range(10,100,10)},\n",
    "]\n",
    "xgb_model = gs.GridSearchCV(model, param_grid, cv = 10, scoring=scorer)\n",
    "\n",
    "start_time = dt.datetime.now()\n",
    "best_models = dict()\n",
    "for shop_id in range(1, 2001):\n",
    "    dataset = data[data.shop_id==shop_id].loc[:,map(lambda x:True if x != 'date' else False, data.columns.tolist())]\n",
    "    xgb_model.fit(dataset.iloc[:,:-1],dataset.iloc[:,-1])\n",
    "    scores = xgb_model.grid_scores_\n",
    "    sorted_index = sorted(np.arange(0, len(scores)), key = lambda x:scores[x].mean_validation_score, reverse = False)\n",
    "    best_model_index = sorted_index[0]\n",
    "    best_model = {\n",
    "            'model': scores[best_model_index].parameters,\n",
    "            'mean_loss': scores[best_model_index].mean_validation_score,\n",
    "             'cvScores': [score for score in scores[best_model_index].cv_validation_scores]\n",
    "    }\n",
    "    best_models[shop_id] = best_model\n",
    "end_time = dt.datetime.now()\n",
    "\n",
    "print '耗时：{}'.format(end_time - start_time)"
   ]
  },
  {
   "cell_type": "code",
   "execution_count": 63,
   "metadata": {
    "collapsed": false
   },
   "outputs": [
    {
     "name": "stdout",
     "output_type": "stream",
     "text": [
      "{'model': {'n_estimators': 30, 'max_depth': 6}, 'cvScores': [0.13738090030389954, 0.12994805838572657, 0.073383144869004407, 0.071120030505917795, 0.071134932598169359, 0.054616553033857929, 0.067954375742384429, 0.059462328098182665, 0.057027285735110025, 0.055669496056171407], 'mean_loss': 0.077927720924855504}\n"
     ]
    }
   ],
   "source": [
    "#****************************************************************************#\n",
    "#    calculate the best model parameters\n",
    "#****************************************************************************#"
   ]
  },
  {
   "cell_type": "code",
   "execution_count": 54,
   "metadata": {
    "collapsed": false
   },
   "outputs": [
    {
     "data": {
      "text/plain": [
       "0.19882586378037012"
      ]
     },
     "execution_count": 54,
     "metadata": {},
     "output_type": "execute_result"
    }
   ],
   "source": [
    "scores[0].mean_validation_score"
   ]
  },
  {
   "cell_type": "code",
   "execution_count": 44,
   "metadata": {
    "collapsed": false
   },
   "outputs": [
    {
     "data": {
      "text/plain": [
       "['__add__',\n",
       " '__class__',\n",
       " '__contains__',\n",
       " '__delattr__',\n",
       " '__dict__',\n",
       " '__doc__',\n",
       " '__eq__',\n",
       " '__format__',\n",
       " '__ge__',\n",
       " '__getattribute__',\n",
       " '__getitem__',\n",
       " '__getnewargs__',\n",
       " '__getslice__',\n",
       " '__getstate__',\n",
       " '__gt__',\n",
       " '__hash__',\n",
       " '__init__',\n",
       " '__iter__',\n",
       " '__le__',\n",
       " '__len__',\n",
       " '__lt__',\n",
       " '__module__',\n",
       " '__mul__',\n",
       " '__ne__',\n",
       " '__new__',\n",
       " '__reduce__',\n",
       " '__reduce_ex__',\n",
       " '__repr__',\n",
       " '__rmul__',\n",
       " '__setattr__',\n",
       " '__sizeof__',\n",
       " '__slots__',\n",
       " '__str__',\n",
       " '__subclasshook__',\n",
       " '_asdict',\n",
       " '_fields',\n",
       " '_make',\n",
       " '_replace',\n",
       " 'count',\n",
       " 'cv_validation_scores',\n",
       " 'index',\n",
       " 'mean_validation_score',\n",
       " 'parameters']"
      ]
     },
     "execution_count": 44,
     "metadata": {},
     "output_type": "execute_result"
    }
   ],
   "source": [
    "dir(scores[0])"
   ]
  }
 ],
 "metadata": {
  "anaconda-cloud": {},
  "kernelspec": {
   "display_name": "Python [conda root]",
   "language": "python",
   "name": "conda-root-py"
  },
  "language_info": {
   "codemirror_mode": {
    "name": "ipython",
    "version": 2.0
   },
   "file_extension": ".py",
   "mimetype": "text/x-python",
   "name": "python",
   "nbconvert_exporter": "python",
   "pygments_lexer": "ipython2",
   "version": "2.7.12"
  }
 },
 "nbformat": 4,
 "nbformat_minor": 0
}